{
  "cells": [
    {
      "cell_type": "code",
      "execution_count": null,
      "metadata": {
        "id": "zl_z_lhkWleo"
      },
      "outputs": [],
      "source": [
        "#importação das bibliotecas pandas, seaborn, matplotlib e ploty.express\n",
        "import pandas as pd\n",
        "import seaborn as sns\n",
        "import matplotlib.pyplot as plt\n",
        "import plotly.express as px"
      ]
    },
    {
      "cell_type": "code",
      "execution_count": null,
      "metadata": {
        "id": "Y0FtIa51cddF"
      },
      "outputs": [],
      "source": [
        "#importação da base de dados diretamente da internet\n",
        "import requests\n",
        "from io import StringIO\n",
        "\n",
        "orig_url='https://drive.google.com/file/d/1pkOP40FvztNt0pnWgKMG5iTXzRt4TW_N/view?usp=sharing'\n",
        "\n",
        "\n",
        "file_id = orig_url.split('/')[-2]\n",
        "dwn_url='https://drive.google.com/uc?export=download&id=' + file_id\n",
        "url = requests.get(dwn_url).text\n",
        "csv_raw = StringIO(url)\n",
        "dfs = pd.read_csv(csv_raw)\n",
        "print(dfs.head())"
      ]
    },
    {
      "cell_type": "code",
      "execution_count": null,
      "metadata": {
        "colab": {
          "base_uri": "https://localhost:8080/"
        },
        "id": "Gm3jCzJ5ggWw",
        "outputId": "f51d42ac-d57f-402f-9a2c-ebd420e8e2a9"
      },
      "outputs": [
        {
          "data": {
            "text/plain": [
              "Index(['ï»¿AnoCalendario', 'DataArquivamento', 'DataAbertura', 'CodigoRegiao',\n",
              "       'Regiao', 'UF', 'strRazaoSocial', 'strNomeFantasia', 'Tipo',\n",
              "       'NumeroCNPJ', 'RadicalCNPJ', 'RazaoSocialRFB', 'NomeFantasiaRFB',\n",
              "       'CNAEPrincipal', 'DescCNAEPrincipal', 'Atendida', 'CodigoAssunto',\n",
              "       'DescricaoAssunto', 'CodigoProblema', 'DescricaoProblema',\n",
              "       'SexoConsumidor', 'FaixaEtariaConsumidor', 'CEPConsumidor'],\n",
              "      dtype='object')"
            ]
          },
          "execution_count": 5,
          "metadata": {},
          "output_type": "execute_result"
        }
      ],
      "source": [
        "#utilização do método .columns para ver as colunas do DataFrame\n",
        "\n",
        "dfs.columns"
      ]
    },
    {
      "cell_type": "code",
      "execution_count": null,
      "metadata": {
        "colab": {
          "base_uri": "https://localhost:8080/"
        },
        "id": "D2_UugrjGHDJ",
        "outputId": "0b434d48-f58f-42e6-b9d1-7a8de1788137"
      },
      "outputs": [
        {
          "data": {
            "text/plain": [
              "2016    203486\n",
              "Name: ï»¿AnoCalendario, dtype: int64"
            ]
          },
          "execution_count": 6,
          "metadata": {},
          "output_type": "execute_result"
        }
      ],
      "source": [
        "#1 - Quantas reclamações foram registradas em 2016, contidas nesta base?\n",
        "\n",
        "#Usando o método .value_counts() é possível ver o total de reclamações feitas no ano de 2016: 203486\n",
        "\n",
        "dfs['ï»¿AnoCalendario'].value_counts()"
      ]
    },
    {
      "cell_type": "code",
      "execution_count": null,
      "metadata": {
        "colab": {
          "base_uri": "https://localhost:8080/"
        },
        "id": "PiKV2u6kG_iH",
        "outputId": "47382736-cc37-4c01-e3fa-835da8c578c2"
      },
      "outputs": [
        {
          "data": {
            "text/plain": [
              "Nordeste        66411\n",
              "Sudeste         62974\n",
              "Centro-oeste    28786\n",
              "Sul             26113\n",
              "Norte           19202\n",
              "Name: Regiao, dtype: int64"
            ]
          },
          "execution_count": 7,
          "metadata": {},
          "output_type": "execute_result"
        }
      ],
      "source": [
        "#2 - Qual região houve mais reclamação? E qual houve menos?\n",
        "\n",
        "#Ao extrair os dados da coluna Regiao, nos é permitido verificar o número de reclamações por região\n",
        "#A região com mais reclamações foi a Região Nordeste, com 66411 reclamações no total\n",
        "#A região com menor número de reclamações foi a Norte, com 19202 reclamações no total\n",
        "\n",
        "dfs['Regiao'].value_counts()"
      ]
    },
    {
      "cell_type": "code",
      "execution_count": null,
      "metadata": {
        "colab": {
          "base_uri": "https://localhost:8080/"
        },
        "id": "zvrN2FjhNT5A",
        "outputId": "16068cb7-86e5-42f9-f3d0-a829b36d66e2"
      },
      "outputs": [
        {
          "data": {
            "text/plain": [
              "F    107229\n",
              "M     94446\n",
              "N      1809\n",
              "Name: SexoConsumidor, dtype: int64"
            ]
          },
          "execution_count": 8,
          "metadata": {},
          "output_type": "execute_result"
        }
      ],
      "source": [
        "#3 - Qual a quantidade de reclamações realizadas por homens? E por mulheres?\n",
        "\n",
        "#O número de reclamações feitas por homens e mulheres pode ser observado utilizando .value_counts() na coluna 'SexoConsumidor'\n",
        "#os homens foram responsáveis por 94446 das reclamações, já as mulheres, por 107229 delas.\n",
        "\n",
        "dfs['SexoConsumidor'].value_counts()"
      ]
    },
    {
      "cell_type": "code",
      "execution_count": null,
      "metadata": {
        "colab": {
          "base_uri": "https://localhost:8080/",
          "height": 644
        },
        "id": "I2crnnDBLaA2",
        "outputId": "0754e100-7854-4e7d-b6b6-bad6f31cdafc"
      },
      "outputs": [
        {
          "data": {
            "text/html": [
              "\n",
              "  <div id=\"df-ba6ba9d1-bfb3-437b-b52c-2b5148f4a74e\">\n",
              "    <div class=\"colab-df-container\">\n",
              "      <div>\n",
              "<style scoped>\n",
              "    .dataframe tbody tr th:only-of-type {\n",
              "        vertical-align: middle;\n",
              "    }\n",
              "\n",
              "    .dataframe tbody tr th {\n",
              "        vertical-align: top;\n",
              "    }\n",
              "\n",
              "    .dataframe thead th {\n",
              "        text-align: right;\n",
              "    }\n",
              "</style>\n",
              "<table border=\"1\" class=\"dataframe\">\n",
              "  <thead>\n",
              "    <tr style=\"text-align: right;\">\n",
              "      <th></th>\n",
              "      <th></th>\n",
              "      <th>ï»¿AnoCalendario</th>\n",
              "      <th>DataArquivamento</th>\n",
              "      <th>DataAbertura</th>\n",
              "      <th>CodigoRegiao</th>\n",
              "      <th>UF</th>\n",
              "      <th>strRazaoSocial</th>\n",
              "      <th>strNomeFantasia</th>\n",
              "      <th>Tipo</th>\n",
              "      <th>NumeroCNPJ</th>\n",
              "      <th>RadicalCNPJ</th>\n",
              "      <th>...</th>\n",
              "      <th>NomeFantasiaRFB</th>\n",
              "      <th>CNAEPrincipal</th>\n",
              "      <th>DescCNAEPrincipal</th>\n",
              "      <th>Atendida</th>\n",
              "      <th>CodigoAssunto</th>\n",
              "      <th>DescricaoAssunto</th>\n",
              "      <th>CodigoProblema</th>\n",
              "      <th>DescricaoProblema</th>\n",
              "      <th>FaixaEtariaConsumidor</th>\n",
              "      <th>CEPConsumidor</th>\n",
              "    </tr>\n",
              "    <tr>\n",
              "      <th>Regiao</th>\n",
              "      <th>SexoConsumidor</th>\n",
              "      <th></th>\n",
              "      <th></th>\n",
              "      <th></th>\n",
              "      <th></th>\n",
              "      <th></th>\n",
              "      <th></th>\n",
              "      <th></th>\n",
              "      <th></th>\n",
              "      <th></th>\n",
              "      <th></th>\n",
              "      <th></th>\n",
              "      <th></th>\n",
              "      <th></th>\n",
              "      <th></th>\n",
              "      <th></th>\n",
              "      <th></th>\n",
              "      <th></th>\n",
              "      <th></th>\n",
              "      <th></th>\n",
              "      <th></th>\n",
              "      <th></th>\n",
              "    </tr>\n",
              "  </thead>\n",
              "  <tbody>\n",
              "    <tr>\n",
              "      <th rowspan=\"3\" valign=\"top\">Centro-oeste</th>\n",
              "      <th>F</th>\n",
              "      <td>14122</td>\n",
              "      <td>14122</td>\n",
              "      <td>14122</td>\n",
              "      <td>14122</td>\n",
              "      <td>14122</td>\n",
              "      <td>14122</td>\n",
              "      <td>12073</td>\n",
              "      <td>14122</td>\n",
              "      <td>13938</td>\n",
              "      <td>13938</td>\n",
              "      <td>...</td>\n",
              "      <td>7248</td>\n",
              "      <td>13241</td>\n",
              "      <td>13184</td>\n",
              "      <td>14122</td>\n",
              "      <td>14122</td>\n",
              "      <td>14122</td>\n",
              "      <td>14122</td>\n",
              "      <td>14122</td>\n",
              "      <td>14122</td>\n",
              "      <td>12506</td>\n",
              "    </tr>\n",
              "    <tr>\n",
              "      <th>M</th>\n",
              "      <td>13585</td>\n",
              "      <td>13585</td>\n",
              "      <td>13585</td>\n",
              "      <td>13585</td>\n",
              "      <td>13585</td>\n",
              "      <td>13585</td>\n",
              "      <td>11534</td>\n",
              "      <td>13585</td>\n",
              "      <td>13416</td>\n",
              "      <td>13416</td>\n",
              "      <td>...</td>\n",
              "      <td>7003</td>\n",
              "      <td>12695</td>\n",
              "      <td>12606</td>\n",
              "      <td>13585</td>\n",
              "      <td>13585</td>\n",
              "      <td>13585</td>\n",
              "      <td>13584</td>\n",
              "      <td>13584</td>\n",
              "      <td>13585</td>\n",
              "      <td>12002</td>\n",
              "    </tr>\n",
              "    <tr>\n",
              "      <th>N</th>\n",
              "      <td>1079</td>\n",
              "      <td>1079</td>\n",
              "      <td>1079</td>\n",
              "      <td>1079</td>\n",
              "      <td>1079</td>\n",
              "      <td>1079</td>\n",
              "      <td>979</td>\n",
              "      <td>1079</td>\n",
              "      <td>1053</td>\n",
              "      <td>1053</td>\n",
              "      <td>...</td>\n",
              "      <td>801</td>\n",
              "      <td>973</td>\n",
              "      <td>959</td>\n",
              "      <td>1079</td>\n",
              "      <td>1079</td>\n",
              "      <td>1079</td>\n",
              "      <td>1079</td>\n",
              "      <td>1079</td>\n",
              "      <td>1079</td>\n",
              "      <td>1079</td>\n",
              "    </tr>\n",
              "    <tr>\n",
              "      <th rowspan=\"3\" valign=\"top\">Nordeste</th>\n",
              "      <th>F</th>\n",
              "      <td>37081</td>\n",
              "      <td>37081</td>\n",
              "      <td>37081</td>\n",
              "      <td>37081</td>\n",
              "      <td>37081</td>\n",
              "      <td>37080</td>\n",
              "      <td>30463</td>\n",
              "      <td>37081</td>\n",
              "      <td>35229</td>\n",
              "      <td>35229</td>\n",
              "      <td>...</td>\n",
              "      <td>17480</td>\n",
              "      <td>34264</td>\n",
              "      <td>33935</td>\n",
              "      <td>37081</td>\n",
              "      <td>37081</td>\n",
              "      <td>37081</td>\n",
              "      <td>37077</td>\n",
              "      <td>37077</td>\n",
              "      <td>37081</td>\n",
              "      <td>34533</td>\n",
              "    </tr>\n",
              "    <tr>\n",
              "      <th>M</th>\n",
              "      <td>29065</td>\n",
              "      <td>29065</td>\n",
              "      <td>29065</td>\n",
              "      <td>29065</td>\n",
              "      <td>29065</td>\n",
              "      <td>29064</td>\n",
              "      <td>23777</td>\n",
              "      <td>29065</td>\n",
              "      <td>27598</td>\n",
              "      <td>27598</td>\n",
              "      <td>...</td>\n",
              "      <td>13705</td>\n",
              "      <td>26836</td>\n",
              "      <td>26479</td>\n",
              "      <td>29065</td>\n",
              "      <td>29065</td>\n",
              "      <td>29065</td>\n",
              "      <td>29062</td>\n",
              "      <td>29062</td>\n",
              "      <td>29065</td>\n",
              "      <td>26873</td>\n",
              "    </tr>\n",
              "    <tr>\n",
              "      <th>N</th>\n",
              "      <td>265</td>\n",
              "      <td>265</td>\n",
              "      <td>265</td>\n",
              "      <td>265</td>\n",
              "      <td>265</td>\n",
              "      <td>265</td>\n",
              "      <td>243</td>\n",
              "      <td>265</td>\n",
              "      <td>264</td>\n",
              "      <td>264</td>\n",
              "      <td>...</td>\n",
              "      <td>188</td>\n",
              "      <td>248</td>\n",
              "      <td>245</td>\n",
              "      <td>265</td>\n",
              "      <td>265</td>\n",
              "      <td>265</td>\n",
              "      <td>265</td>\n",
              "      <td>265</td>\n",
              "      <td>265</td>\n",
              "      <td>265</td>\n",
              "    </tr>\n",
              "    <tr>\n",
              "      <th rowspan=\"3\" valign=\"top\">Norte</th>\n",
              "      <th>F</th>\n",
              "      <td>9654</td>\n",
              "      <td>9654</td>\n",
              "      <td>9654</td>\n",
              "      <td>9654</td>\n",
              "      <td>9654</td>\n",
              "      <td>9654</td>\n",
              "      <td>9103</td>\n",
              "      <td>9654</td>\n",
              "      <td>9056</td>\n",
              "      <td>9056</td>\n",
              "      <td>...</td>\n",
              "      <td>4623</td>\n",
              "      <td>8787</td>\n",
              "      <td>8700</td>\n",
              "      <td>9654</td>\n",
              "      <td>9654</td>\n",
              "      <td>9654</td>\n",
              "      <td>9654</td>\n",
              "      <td>9654</td>\n",
              "      <td>9654</td>\n",
              "      <td>8432</td>\n",
              "    </tr>\n",
              "    <tr>\n",
              "      <th>M</th>\n",
              "      <td>9529</td>\n",
              "      <td>9529</td>\n",
              "      <td>9529</td>\n",
              "      <td>9529</td>\n",
              "      <td>9529</td>\n",
              "      <td>9528</td>\n",
              "      <td>9017</td>\n",
              "      <td>9529</td>\n",
              "      <td>8975</td>\n",
              "      <td>8975</td>\n",
              "      <td>...</td>\n",
              "      <td>4786</td>\n",
              "      <td>8654</td>\n",
              "      <td>8538</td>\n",
              "      <td>9529</td>\n",
              "      <td>9529</td>\n",
              "      <td>9529</td>\n",
              "      <td>9529</td>\n",
              "      <td>9529</td>\n",
              "      <td>9529</td>\n",
              "      <td>8139</td>\n",
              "    </tr>\n",
              "    <tr>\n",
              "      <th>N</th>\n",
              "      <td>19</td>\n",
              "      <td>19</td>\n",
              "      <td>19</td>\n",
              "      <td>19</td>\n",
              "      <td>19</td>\n",
              "      <td>19</td>\n",
              "      <td>19</td>\n",
              "      <td>19</td>\n",
              "      <td>19</td>\n",
              "      <td>19</td>\n",
              "      <td>...</td>\n",
              "      <td>14</td>\n",
              "      <td>18</td>\n",
              "      <td>18</td>\n",
              "      <td>19</td>\n",
              "      <td>19</td>\n",
              "      <td>19</td>\n",
              "      <td>19</td>\n",
              "      <td>19</td>\n",
              "      <td>19</td>\n",
              "      <td>18</td>\n",
              "    </tr>\n",
              "    <tr>\n",
              "      <th rowspan=\"3\" valign=\"top\">Sudeste</th>\n",
              "      <th>F</th>\n",
              "      <td>33600</td>\n",
              "      <td>33600</td>\n",
              "      <td>33600</td>\n",
              "      <td>33600</td>\n",
              "      <td>33600</td>\n",
              "      <td>33600</td>\n",
              "      <td>28827</td>\n",
              "      <td>33600</td>\n",
              "      <td>32755</td>\n",
              "      <td>32755</td>\n",
              "      <td>...</td>\n",
              "      <td>13752</td>\n",
              "      <td>31125</td>\n",
              "      <td>30993</td>\n",
              "      <td>33600</td>\n",
              "      <td>33600</td>\n",
              "      <td>33600</td>\n",
              "      <td>33600</td>\n",
              "      <td>33600</td>\n",
              "      <td>33600</td>\n",
              "      <td>32294</td>\n",
              "    </tr>\n",
              "    <tr>\n",
              "      <th>M</th>\n",
              "      <td>29242</td>\n",
              "      <td>29242</td>\n",
              "      <td>29242</td>\n",
              "      <td>29242</td>\n",
              "      <td>29242</td>\n",
              "      <td>29242</td>\n",
              "      <td>24970</td>\n",
              "      <td>29242</td>\n",
              "      <td>28469</td>\n",
              "      <td>28469</td>\n",
              "      <td>...</td>\n",
              "      <td>11922</td>\n",
              "      <td>26956</td>\n",
              "      <td>26807</td>\n",
              "      <td>29242</td>\n",
              "      <td>29242</td>\n",
              "      <td>29242</td>\n",
              "      <td>29241</td>\n",
              "      <td>29241</td>\n",
              "      <td>29242</td>\n",
              "      <td>28123</td>\n",
              "    </tr>\n",
              "    <tr>\n",
              "      <th>N</th>\n",
              "      <td>130</td>\n",
              "      <td>130</td>\n",
              "      <td>130</td>\n",
              "      <td>130</td>\n",
              "      <td>130</td>\n",
              "      <td>130</td>\n",
              "      <td>117</td>\n",
              "      <td>130</td>\n",
              "      <td>128</td>\n",
              "      <td>128</td>\n",
              "      <td>...</td>\n",
              "      <td>57</td>\n",
              "      <td>88</td>\n",
              "      <td>87</td>\n",
              "      <td>130</td>\n",
              "      <td>130</td>\n",
              "      <td>130</td>\n",
              "      <td>130</td>\n",
              "      <td>130</td>\n",
              "      <td>130</td>\n",
              "      <td>130</td>\n",
              "    </tr>\n",
              "    <tr>\n",
              "      <th rowspan=\"3\" valign=\"top\">Sul</th>\n",
              "      <th>F</th>\n",
              "      <td>12772</td>\n",
              "      <td>12772</td>\n",
              "      <td>12772</td>\n",
              "      <td>12772</td>\n",
              "      <td>12772</td>\n",
              "      <td>12772</td>\n",
              "      <td>11193</td>\n",
              "      <td>12772</td>\n",
              "      <td>11948</td>\n",
              "      <td>11948</td>\n",
              "      <td>...</td>\n",
              "      <td>5383</td>\n",
              "      <td>11481</td>\n",
              "      <td>11409</td>\n",
              "      <td>12772</td>\n",
              "      <td>12772</td>\n",
              "      <td>12772</td>\n",
              "      <td>12771</td>\n",
              "      <td>12771</td>\n",
              "      <td>12772</td>\n",
              "      <td>12290</td>\n",
              "    </tr>\n",
              "    <tr>\n",
              "      <th>M</th>\n",
              "      <td>13025</td>\n",
              "      <td>13025</td>\n",
              "      <td>13025</td>\n",
              "      <td>13025</td>\n",
              "      <td>13025</td>\n",
              "      <td>13025</td>\n",
              "      <td>11126</td>\n",
              "      <td>13025</td>\n",
              "      <td>12140</td>\n",
              "      <td>12140</td>\n",
              "      <td>...</td>\n",
              "      <td>5408</td>\n",
              "      <td>11639</td>\n",
              "      <td>11543</td>\n",
              "      <td>13025</td>\n",
              "      <td>13025</td>\n",
              "      <td>13025</td>\n",
              "      <td>13025</td>\n",
              "      <td>13025</td>\n",
              "      <td>13025</td>\n",
              "      <td>12446</td>\n",
              "    </tr>\n",
              "    <tr>\n",
              "      <th>N</th>\n",
              "      <td>316</td>\n",
              "      <td>316</td>\n",
              "      <td>316</td>\n",
              "      <td>316</td>\n",
              "      <td>316</td>\n",
              "      <td>316</td>\n",
              "      <td>279</td>\n",
              "      <td>316</td>\n",
              "      <td>302</td>\n",
              "      <td>302</td>\n",
              "      <td>...</td>\n",
              "      <td>191</td>\n",
              "      <td>281</td>\n",
              "      <td>280</td>\n",
              "      <td>316</td>\n",
              "      <td>316</td>\n",
              "      <td>316</td>\n",
              "      <td>316</td>\n",
              "      <td>316</td>\n",
              "      <td>316</td>\n",
              "      <td>268</td>\n",
              "    </tr>\n",
              "  </tbody>\n",
              "</table>\n",
              "<p>15 rows × 21 columns</p>\n",
              "</div>\n",
              "      <button class=\"colab-df-convert\" onclick=\"convertToInteractive('df-ba6ba9d1-bfb3-437b-b52c-2b5148f4a74e')\"\n",
              "              title=\"Convert this dataframe to an interactive table.\"\n",
              "              style=\"display:none;\">\n",
              "        \n",
              "  <svg xmlns=\"http://www.w3.org/2000/svg\" height=\"24px\"viewBox=\"0 0 24 24\"\n",
              "       width=\"24px\">\n",
              "    <path d=\"M0 0h24v24H0V0z\" fill=\"none\"/>\n",
              "    <path d=\"M18.56 5.44l.94 2.06.94-2.06 2.06-.94-2.06-.94-.94-2.06-.94 2.06-2.06.94zm-11 1L8.5 8.5l.94-2.06 2.06-.94-2.06-.94L8.5 2.5l-.94 2.06-2.06.94zm10 10l.94 2.06.94-2.06 2.06-.94-2.06-.94-.94-2.06-.94 2.06-2.06.94z\"/><path d=\"M17.41 7.96l-1.37-1.37c-.4-.4-.92-.59-1.43-.59-.52 0-1.04.2-1.43.59L10.3 9.45l-7.72 7.72c-.78.78-.78 2.05 0 2.83L4 21.41c.39.39.9.59 1.41.59.51 0 1.02-.2 1.41-.59l7.78-7.78 2.81-2.81c.8-.78.8-2.07 0-2.86zM5.41 20L4 18.59l7.72-7.72 1.47 1.35L5.41 20z\"/>\n",
              "  </svg>\n",
              "      </button>\n",
              "      \n",
              "  <style>\n",
              "    .colab-df-container {\n",
              "      display:flex;\n",
              "      flex-wrap:wrap;\n",
              "      gap: 12px;\n",
              "    }\n",
              "\n",
              "    .colab-df-convert {\n",
              "      background-color: #E8F0FE;\n",
              "      border: none;\n",
              "      border-radius: 50%;\n",
              "      cursor: pointer;\n",
              "      display: none;\n",
              "      fill: #1967D2;\n",
              "      height: 32px;\n",
              "      padding: 0 0 0 0;\n",
              "      width: 32px;\n",
              "    }\n",
              "\n",
              "    .colab-df-convert:hover {\n",
              "      background-color: #E2EBFA;\n",
              "      box-shadow: 0px 1px 2px rgba(60, 64, 67, 0.3), 0px 1px 3px 1px rgba(60, 64, 67, 0.15);\n",
              "      fill: #174EA6;\n",
              "    }\n",
              "\n",
              "    [theme=dark] .colab-df-convert {\n",
              "      background-color: #3B4455;\n",
              "      fill: #D2E3FC;\n",
              "    }\n",
              "\n",
              "    [theme=dark] .colab-df-convert:hover {\n",
              "      background-color: #434B5C;\n",
              "      box-shadow: 0px 1px 3px 1px rgba(0, 0, 0, 0.15);\n",
              "      filter: drop-shadow(0px 1px 2px rgba(0, 0, 0, 0.3));\n",
              "      fill: #FFFFFF;\n",
              "    }\n",
              "  </style>\n",
              "\n",
              "      <script>\n",
              "        const buttonEl =\n",
              "          document.querySelector('#df-ba6ba9d1-bfb3-437b-b52c-2b5148f4a74e button.colab-df-convert');\n",
              "        buttonEl.style.display =\n",
              "          google.colab.kernel.accessAllowed ? 'block' : 'none';\n",
              "\n",
              "        async function convertToInteractive(key) {\n",
              "          const element = document.querySelector('#df-ba6ba9d1-bfb3-437b-b52c-2b5148f4a74e');\n",
              "          const dataTable =\n",
              "            await google.colab.kernel.invokeFunction('convertToInteractive',\n",
              "                                                     [key], {});\n",
              "          if (!dataTable) return;\n",
              "\n",
              "          const docLinkHtml = 'Like what you see? Visit the ' +\n",
              "            '<a target=\"_blank\" href=https://colab.research.google.com/notebooks/data_table.ipynb>data table notebook</a>'\n",
              "            + ' to learn more about interactive tables.';\n",
              "          element.innerHTML = '';\n",
              "          dataTable['output_type'] = 'display_data';\n",
              "          await google.colab.output.renderOutput(dataTable, element);\n",
              "          const docLink = document.createElement('div');\n",
              "          docLink.innerHTML = docLinkHtml;\n",
              "          element.appendChild(docLink);\n",
              "        }\n",
              "      </script>\n",
              "    </div>\n",
              "  </div>\n",
              "  "
            ],
            "text/plain": [
              "                             ï»¿AnoCalendario  DataArquivamento  DataAbertura  \\\n",
              "Regiao       SexoConsumidor                                                     \n",
              "Centro-oeste F                          14122             14122         14122   \n",
              "             M                          13585             13585         13585   \n",
              "             N                           1079              1079          1079   \n",
              "Nordeste     F                          37081             37081         37081   \n",
              "             M                          29065             29065         29065   \n",
              "             N                            265               265           265   \n",
              "Norte        F                           9654              9654          9654   \n",
              "             M                           9529              9529          9529   \n",
              "             N                             19                19            19   \n",
              "Sudeste      F                          33600             33600         33600   \n",
              "             M                          29242             29242         29242   \n",
              "             N                            130               130           130   \n",
              "Sul          F                          12772             12772         12772   \n",
              "             M                          13025             13025         13025   \n",
              "             N                            316               316           316   \n",
              "\n",
              "                             CodigoRegiao     UF  strRazaoSocial  \\\n",
              "Regiao       SexoConsumidor                                        \n",
              "Centro-oeste F                      14122  14122           14122   \n",
              "             M                      13585  13585           13585   \n",
              "             N                       1079   1079            1079   \n",
              "Nordeste     F                      37081  37081           37080   \n",
              "             M                      29065  29065           29064   \n",
              "             N                        265    265             265   \n",
              "Norte        F                       9654   9654            9654   \n",
              "             M                       9529   9529            9528   \n",
              "             N                         19     19              19   \n",
              "Sudeste      F                      33600  33600           33600   \n",
              "             M                      29242  29242           29242   \n",
              "             N                        130    130             130   \n",
              "Sul          F                      12772  12772           12772   \n",
              "             M                      13025  13025           13025   \n",
              "             N                        316    316             316   \n",
              "\n",
              "                             strNomeFantasia   Tipo  NumeroCNPJ  RadicalCNPJ  \\\n",
              "Regiao       SexoConsumidor                                                    \n",
              "Centro-oeste F                         12073  14122       13938        13938   \n",
              "             M                         11534  13585       13416        13416   \n",
              "             N                           979   1079        1053         1053   \n",
              "Nordeste     F                         30463  37081       35229        35229   \n",
              "             M                         23777  29065       27598        27598   \n",
              "             N                           243    265         264          264   \n",
              "Norte        F                          9103   9654        9056         9056   \n",
              "             M                          9017   9529        8975         8975   \n",
              "             N                            19     19          19           19   \n",
              "Sudeste      F                         28827  33600       32755        32755   \n",
              "             M                         24970  29242       28469        28469   \n",
              "             N                           117    130         128          128   \n",
              "Sul          F                         11193  12772       11948        11948   \n",
              "             M                         11126  13025       12140        12140   \n",
              "             N                           279    316         302          302   \n",
              "\n",
              "                             ...  NomeFantasiaRFB  CNAEPrincipal  \\\n",
              "Regiao       SexoConsumidor  ...                                   \n",
              "Centro-oeste F               ...             7248          13241   \n",
              "             M               ...             7003          12695   \n",
              "             N               ...              801            973   \n",
              "Nordeste     F               ...            17480          34264   \n",
              "             M               ...            13705          26836   \n",
              "             N               ...              188            248   \n",
              "Norte        F               ...             4623           8787   \n",
              "             M               ...             4786           8654   \n",
              "             N               ...               14             18   \n",
              "Sudeste      F               ...            13752          31125   \n",
              "             M               ...            11922          26956   \n",
              "             N               ...               57             88   \n",
              "Sul          F               ...             5383          11481   \n",
              "             M               ...             5408          11639   \n",
              "             N               ...              191            281   \n",
              "\n",
              "                             DescCNAEPrincipal  Atendida  CodigoAssunto  \\\n",
              "Regiao       SexoConsumidor                                               \n",
              "Centro-oeste F                           13184     14122          14122   \n",
              "             M                           12606     13585          13585   \n",
              "             N                             959      1079           1079   \n",
              "Nordeste     F                           33935     37081          37081   \n",
              "             M                           26479     29065          29065   \n",
              "             N                             245       265            265   \n",
              "Norte        F                            8700      9654           9654   \n",
              "             M                            8538      9529           9529   \n",
              "             N                              18        19             19   \n",
              "Sudeste      F                           30993     33600          33600   \n",
              "             M                           26807     29242          29242   \n",
              "             N                              87       130            130   \n",
              "Sul          F                           11409     12772          12772   \n",
              "             M                           11543     13025          13025   \n",
              "             N                             280       316            316   \n",
              "\n",
              "                             DescricaoAssunto  CodigoProblema  \\\n",
              "Regiao       SexoConsumidor                                     \n",
              "Centro-oeste F                          14122           14122   \n",
              "             M                          13585           13584   \n",
              "             N                           1079            1079   \n",
              "Nordeste     F                          37081           37077   \n",
              "             M                          29065           29062   \n",
              "             N                            265             265   \n",
              "Norte        F                           9654            9654   \n",
              "             M                           9529            9529   \n",
              "             N                             19              19   \n",
              "Sudeste      F                          33600           33600   \n",
              "             M                          29242           29241   \n",
              "             N                            130             130   \n",
              "Sul          F                          12772           12771   \n",
              "             M                          13025           13025   \n",
              "             N                            316             316   \n",
              "\n",
              "                             DescricaoProblema  FaixaEtariaConsumidor  \\\n",
              "Regiao       SexoConsumidor                                             \n",
              "Centro-oeste F                           14122                  14122   \n",
              "             M                           13584                  13585   \n",
              "             N                            1079                   1079   \n",
              "Nordeste     F                           37077                  37081   \n",
              "             M                           29062                  29065   \n",
              "             N                             265                    265   \n",
              "Norte        F                            9654                   9654   \n",
              "             M                            9529                   9529   \n",
              "             N                              19                     19   \n",
              "Sudeste      F                           33600                  33600   \n",
              "             M                           29241                  29242   \n",
              "             N                             130                    130   \n",
              "Sul          F                           12771                  12772   \n",
              "             M                           13025                  13025   \n",
              "             N                             316                    316   \n",
              "\n",
              "                             CEPConsumidor  \n",
              "Regiao       SexoConsumidor                 \n",
              "Centro-oeste F                       12506  \n",
              "             M                       12002  \n",
              "             N                        1079  \n",
              "Nordeste     F                       34533  \n",
              "             M                       26873  \n",
              "             N                         265  \n",
              "Norte        F                        8432  \n",
              "             M                        8139  \n",
              "             N                          18  \n",
              "Sudeste      F                       32294  \n",
              "             M                       28123  \n",
              "             N                         130  \n",
              "Sul          F                       12290  \n",
              "             M                       12446  \n",
              "             N                         268  \n",
              "\n",
              "[15 rows x 21 columns]"
            ]
          },
          "execution_count": 9,
          "metadata": {},
          "output_type": "execute_result"
        }
      ],
      "source": [
        "#4 - Em qual região os homens fizeram mais reclamações que as mulheres?\n",
        "\n",
        "#utilizando o método groupby() nas colunas 'Regiao' e 'SexoConsumidor' é possível ver o total de reclamações feitas por cada sexo e em cada região\n",
        "#A região onde os homens fizeram mais reclamações que as mulheres foi a região Sul\n",
        "\n",
        "dfs.groupby(['Regiao', 'SexoConsumidor']).count()"
      ]
    },
    {
      "cell_type": "code",
      "execution_count": null,
      "metadata": {
        "colab": {
          "base_uri": "https://localhost:8080/"
        },
        "id": "CjZ35v3REUhn",
        "outputId": "f446d0de-c16c-4ef0-91e3-f9b5d25a02dc"
      },
      "outputs": [
        {
          "data": {
            "text/plain": [
              "entre 31 a 40 anos    45422\n",
              "entre 41 a 50 anos    37963\n",
              "entre 21 a 30 anos    33237\n",
              "entre 51 a 60 anos    31717\n",
              "entre 61 a 70 anos    22660\n",
              "Nao Informada         16790\n",
              "mais de 70 anos       10893\n",
              "atÃ© 20 anos           4804\n",
              "Name: FaixaEtariaConsumidor, dtype: int64"
            ]
          },
          "execution_count": 10,
          "metadata": {},
          "output_type": "execute_result"
        }
      ],
      "source": [
        "#5 - Qual a faixa etária que realizou mais reclamações?\n",
        "\n",
        "#Para verificar o número de reclamações por faixa etária é utilizado novamente value_counts()\n",
        "#A faixa etária que mais realizou reclamações foi entre 31 a 40 anos, com 45422 reclamações no total\n",
        "\n",
        "dfs['FaixaEtariaConsumidor'].value_counts()"
      ]
    },
    {
      "cell_type": "code",
      "execution_count": null,
      "metadata": {
        "colab": {
          "base_uri": "https://localhost:8080/"
        },
        "id": "i8USVS8QFV5o",
        "outputId": "cf08b34e-7e3f-4cd9-ec03-0c1e48d6a010"
      },
      "outputs": [
        {
          "data": {
            "text/plain": [
              "Telefone ( Convencional, Celular, Interfone, Etc. )                                      21272\n",
              "Telefonia Celular                                                                        15102\n",
              "CartÃ£o de CrÃ©dito                                                                      11774\n",
              "Telefonia Fixa ( Plano de ExpansÃ£o / Compra e Venda / LocaÃ§Ã£o )                       11056\n",
              "Banco comercial                                                                           9274\n",
              "                                                                                         ...  \n",
              "PÃ³s para preparo (refresco, gelatina, pudim, bolos, pÃ£o de queijo, pizza e sorvete)        1\n",
              "Profissional Liberal - VeterinÃ¡rio                                                          1\n",
              "Venda atravÃ©s de reembolso postal a domicilio                                               1\n",
              "Ãgua                                                                                        1\n",
              "Ovos                                                                                         1\n",
              "Name: DescricaoAssunto, Length: 212, dtype: int64"
            ]
          },
          "execution_count": 11,
          "metadata": {},
          "output_type": "execute_result"
        }
      ],
      "source": [
        "#6 - Quais assuntos apresentaram mais reclamações em 2016?\n",
        "\n",
        "#O método value_counts() é novamente utilizado, desta vez na coluna 'DescricaoAssunto', permitindo ver a quantidade de reclamações por assunto\n",
        "#O assunto com maior número de reclamações foi o de telefone (Convencional, Celular, Interfone, Etc.), com 21272 reclamações no total   \n",
        "\n",
        "dfs['DescricaoAssunto'].value_counts()"
      ]
    },
    {
      "cell_type": "code",
      "execution_count": null,
      "metadata": {
        "colab": {
          "base_uri": "https://localhost:8080/"
        },
        "id": "B6besLCVGJog",
        "outputId": "9637cb06-8fb5-410a-cd1b-470df1e776c8"
      },
      "outputs": [
        {
          "data": {
            "text/plain": [
              "OI                                                 2732\n",
              "SKY                                                2615\n",
              "SAMSUNG                                            2127\n",
              "PONTOFRIO.COM.BR/CASASBAHIA.COM.BR/EXTRA.COM.BR    2106\n",
              "OI FIXO                                            2080\n",
              "                                                   ... \n",
              "VIRTUAL BRASIL                                        1\n",
              "SPORT RODAS E PNEUS                                   1\n",
              "RAPI10 VIAGENS ON LINE                                1\n",
              "CONVENIENCIA TOCANTINS                                1\n",
              "ESSENCE CARE                                          1\n",
              "Name: strNomeFantasia, Length: 26719, dtype: int64"
            ]
          },
          "execution_count": 12,
          "metadata": {},
          "output_type": "execute_result"
        }
      ],
      "source": [
        "#7 - Analisando o nome fantasia, determine qual empresa recebeu mais reclamações em 2016.\n",
        "\n",
        "#O número de reclamações por empresa(nome fantasia) pode ser verificado utilizando value_counts()\n",
        "#A empresa OI foi  a empresa com mais reclamações no ano de 2016\n",
        "\n",
        "dfs['strNomeFantasia'].value_counts()"
      ]
    },
    {
      "cell_type": "code",
      "execution_count": null,
      "metadata": {
        "colab": {
          "base_uri": "https://localhost:8080/"
        },
        "id": "NtWalNX8K_2T",
        "outputId": "f6d8c011-42fe-4ff6-beaf-f13b7fa16a9f"
      },
      "outputs": [
        {
          "data": {
            "text/plain": [
              "strNomeFantasia                                     Atendida\n",
              "OI                                                  S           2098\n",
              "PONTOFRIO.COM.BR/CASASBAHIA.COM.BR/EXTRA.COM.BR     S           1734\n",
              "SKY                                                 S           1728\n",
              "OI FIXO                                             S           1723\n",
              "VIVO                                                S           1312\n",
              "                                                                ... \n",
              "FORMULA TIJU FITNESS CENTER - ACADEMIA DE GINASTIC  N              1\n",
              "FORMULA SERVICE                                     S              1\n",
              "FORMULA                                             S              1\n",
              "FORMISHOP.COM                                       N              1\n",
              "ÃTIL MAIS COMÃRCIO ELETRÃNICO                    S              1\n",
              "Length: 32201, dtype: int64"
            ]
          },
          "execution_count": 13,
          "metadata": {},
          "output_type": "execute_result"
        }
      ],
      "source": [
        "#8 - Qual empresa possui um maior percentual de resolução de reclamações?\n",
        "\n",
        "#utilizar value_counts() nas colunas 'strNomeFantasia' e 'Atendida' nos permite ver o número de reclamações atendidas por empresa\n",
        "#A empresa OI foi a que mais atendeu, e por consequência, resolveu reclamações\n",
        "\n",
        "dfs[['strNomeFantasia','Atendida']].value_counts()"
      ]
    },
    {
      "cell_type": "code",
      "execution_count": null,
      "metadata": {
        "colab": {
          "base_uri": "https://localhost:8080/"
        },
        "id": "oZxfcOEylICp",
        "outputId": "43b682dc-fe26-402c-f041-49189b47647c"
      },
      "outputs": [
        {
          "name": "stdout",
          "output_type": "stream",
          "text": [
            "Digite o número total de reclamações:2732\n",
            "Digite o número de reclamações atendidas:2098\n",
            "Foram resolvidas 77% das reclamações\n"
          ]
        }
      ],
      "source": [
        "#Este bloco de código adicional pode ser utilizado para calcular o percentual de resolução de reclamações\n",
        "#A váriavel total recebe o número de reclamações feitas, e a váriavel atend a quantidade atendidas\n",
        "#Após isso, na váriavel porcent é realizado um cálculo utilizando a regra de 3 \n",
        "#Por fim a função print nos mostra em tela o resultado\n",
        "\n",
        "total = int(input('Digite o número total de reclamações:'))\n",
        "atend = int(input('Digite o número de reclamações atendidas:'))\n",
        "\n",
        "porcent = (round((atend*100)/total))\n",
        "print('Foram resolvidas ' + str(porcent) + '% das reclamações')"
      ]
    },
    {
      "cell_type": "code",
      "execution_count": null,
      "metadata": {
        "colab": {
          "base_uri": "https://localhost:8080/",
          "height": 296
        },
        "id": "z71QWeoeN6gt",
        "outputId": "92f09fe3-252b-4597-cf9a-fe175c63a7d0"
      },
      "outputs": [
        {
          "data": {
            "text/plain": [
              "<matplotlib.axes._subplots.AxesSubplot at 0x7f9d8d6fb390>"
            ]
          },
          "execution_count": 16,
          "metadata": {},
          "output_type": "execute_result"
        },
        {
          "data": {
            "image/png": "[encoded data removed]",
            "text/plain": [
              "<Figure size 432x288 with 1 Axes>"
            ]
          },
          "metadata": {
            "needs_background": "light"
          },
          "output_type": "display_data"
        }
      ],
      "source": [
        "#9 - Monte um gráfico mostrando a quantidade de reclamações por região, separando as mesmas por sexo\n",
        "\n",
        "#A biblioteca seaborn nos permite a construção de gráficos. Assim, após a importação da biblioteca, basta fazer uso do método sns.countplot() para construir um gráfico de barras\n",
        "#São extraidas da base de dados as colunas 'Regiao' e 'SexoConsumidor' que serão , respectivamente, os eixos x e y\n",
        "\n",
        "sns.countplot(x='Regiao', hue='SexoConsumidor', data=dfs)"
      ]
    },
    {
      "cell_type": "code",
      "execution_count": null,
      "metadata": {
        "colab": {
          "base_uri": "https://localhost:8080/"
        },
        "id": "_KNBSExhQlDy",
        "outputId": "e0a180f6-f82b-4f84-e718-b8223d1fd2ac"
      },
      "outputs": [
        {
          "data": {
            "text/plain": [
              "3     20519\n",
              "8     17993\n",
              "5     17708\n",
              "2     17462\n",
              "1     17412\n",
              "4     17183\n",
              "11    16622\n",
              "7     16245\n",
              "10    16178\n",
              "9     15874\n",
              "6     15415\n",
              "12    14875\n",
              "Name: Month, dtype: int64"
            ]
          },
          "execution_count": 17,
          "metadata": {},
          "output_type": "execute_result"
        }
      ],
      "source": [
        "#10 - Elabore um gráfico de linhas com a quantidade de reclamações por mês. Este gráfico lembra alguma distribuição estatística?\n",
        "\n",
        "#Primeiramente é preciso converter os dados da coluna 'DataAbertura' para o tipo datetime, utilizando o método pd.to_datetime()\n",
        "#Depois, os meses são extraidos através do método dt.month\n",
        "#Por fim, value_counts() nos permite vizualizar o número de reclamações por mês\n",
        "\n",
        "dfs['DataAbertura'] = pd.to_datetime(dfs['DataAbertura'])\n",
        "\n",
        "dfs['Month'] = dfs['DataAbertura'].dt.month\n",
        "\n",
        "dfs.Month.value_counts()"
      ]
    },
    {
      "cell_type": "code",
      "execution_count": null,
      "metadata": {
        "id": "f2J26fnSwSyL"
      },
      "outputs": [],
      "source": [
        "#criando listas com os dados obtidos acima, que serão usadas para a criação do gráfico de linhas\n",
        "\n",
        "mes = ['1', '2', '3', '4', '5', '6', '7', '8', '9', '10', '11', '12']\n",
        "quantidade = [17412, 17462, 20519, 17183, 17708, 15415, 16245, 17993, 15874, 16178, 16622, 14875]\n"
      ]
    },
    {
      "cell_type": "code",
      "execution_count": null,
      "metadata": {
        "colab": {
          "base_uri": "https://localhost:8080/",
          "height": 312
        },
        "id": "09TZrgcuy6F5",
        "outputId": "9adae21c-5c4d-4682-b511-e536b12d2862"
      },
      "outputs": [
        {
          "data": {
            "text/plain": [
              "<function matplotlib.pyplot.show>"
            ]
          },
          "execution_count": 19,
          "metadata": {},
          "output_type": "execute_result"
        },
        {
          "data": {
            "image/png": "[encoded data removed]",
            "text/plain": [
              "<Figure size 432x288 with 1 Axes>"
            ]
          },
          "metadata": {
            "needs_background": "light"
          },
          "output_type": "display_data"
        }
      ],
      "source": [
        "#Para elaborar o gráfico de linhas é preciso primeiro importar a biblioteca matplotlib, para utilizar o método plt.plot()\n",
        "#As listas mes e quantidade serão os eixos x e y, respectivamente\n",
        "#O gráfico lembra a distribuição binominal\n",
        "\n",
        "plt.plot(mes, quantidade)\n",
        "plt.title('Quantidade de reclamações por mês no ano de 2016')\n",
        "plt.xlabel('Mês')\n",
        "plt.ylabel('Quantidade de Reclamações')\n",
        "plt.show"
      ]
    },
    {
      "cell_type": "code",
      "execution_count": null,
      "metadata": {
        "colab": {
          "base_uri": "https://localhost:8080/"
        },
        "id": "4jzZf5J6U6RF",
        "outputId": "67496d2f-fe59-4a79-d6d2-639f232bcfac"
      },
      "outputs": [
        {
          "data": {
            "text/plain": [
              "Regiao        CodigoRegiao\n",
              "Nordeste      2               66411\n",
              "Sudeste       3               62974\n",
              "Centro-oeste  5               28786\n",
              "Sul           4               26113\n",
              "Norte         1               19202\n",
              "dtype: int64"
            ]
          },
          "execution_count": 20,
          "metadata": {},
          "output_type": "execute_result"
        }
      ],
      "source": [
        "#11 - Elabore um gráfico boxplot mostrando a quantidade de reclamações por região.\n",
        "\n",
        "#verificando a quais regiões pertencem os respectivos códigos e também a quantidade na base de dados\n",
        "\n",
        "dfs[['Regiao', 'CodigoRegiao']].value_counts()"
      ]
    },
    {
      "cell_type": "code",
      "execution_count": null,
      "metadata": {
        "colab": {
          "base_uri": "https://localhost:8080/"
        },
        "id": "K0wkUI8uVgW_",
        "outputId": "6f1d3a69-275d-4088-e442-18cb3a55c953"
      },
      "outputs": [
        {
          "name": "stdout",
          "output_type": "stream",
          "text": [
            "   codRegiao  quantPorRegiao\n",
            "0          1           19202\n",
            "1          2           66411\n",
            "2          3           62974\n",
            "3          4           26113\n",
            "4          5           28786\n"
          ]
        }
      ],
      "source": [
        "#criando dataframe com os códigos de região e suas respectivas quantidades de reclamações\n",
        "\n",
        "base = pd.DataFrame({'codRegiao':[1,2,3,4,5],\n",
        "                    'quantPorRegiao':[19202, 66411, 62974, 26113, 28786]})\n",
        "\n",
        "print(base)"
      ]
    },
    {
      "cell_type": "code",
      "execution_count": null,
      "metadata": {
        "colab": {
          "base_uri": "https://localhost:8080/",
          "height": 296
        },
        "id": "0JbCnpf3W6Po",
        "outputId": "a18e4910-6c49-4b93-9c23-ee46d336d191"
      },
      "outputs": [
        {
          "data": {
            "image/png": "[encoded data removed]",
            "text/plain": [
              "<Figure size 432x288 with 1 Axes>"
            ]
          },
          "metadata": {
            "needs_background": "light"
          },
          "output_type": "display_data"
        }
      ],
      "source": [
        "#criação do gráfico boxplot com o número de reclamações por região\n",
        "\n",
        "plt.boxplot(base)\n",
        "plt.title('Número de reclamações por região')\n",
        "plt.xlabel('Código de região')\n",
        "plt.ylabel('Quantidade de reclamações')\n",
        "plt.legend(['Norte = 1', 'Nordeste = 2', 'Sudeste = 3', 'Sul = 4', 'Centro-oeste = 5'], loc = 1)\n",
        "plt.show()"
      ]
    },
    {
      "cell_type": "code",
      "execution_count": null,
      "metadata": {
        "colab": {
          "base_uri": "https://localhost:8080/"
        },
        "id": "k32UFyTf5vB2",
        "outputId": "2a2960b9-e736-4ca0-d41e-cbe4af46106d"
      },
      "outputs": [
        {
          "data": {
            "text/plain": [
              "SP    31548\n",
              "PE    20175\n",
              "BA    17519\n",
              "SC    16718\n",
              "MG    15159\n",
              "ES    11383\n",
              "CE    10833\n",
              "TO    10232\n",
              "MS     9789\n",
              "PR     9132\n",
              "MT     8770\n",
              "GO     8060\n",
              "PB     7464\n",
              "RJ     4884\n",
              "RN     4443\n",
              "RO     3922\n",
              "MA     3597\n",
              "PA     2730\n",
              "AM     2318\n",
              "PI     2189\n",
              "DF     2167\n",
              "RS      263\n",
              "AL      191\n",
              "Name: UF, dtype: int64"
            ]
          },
          "execution_count": 23,
          "metadata": {},
          "output_type": "execute_result"
        }
      ],
      "source": [
        "#12 - É possível afirmar que existe correlação entre o número de reclamações E o número de habitantes por Estado? Elabore um gráfico de dispersão e calcule o índice de correlação destes dois fatores.\n",
        "\n",
        "#Através do método value_counts é possível verificar a quantidade de reclamações por estado, utilzando a coluna 'UF'\n",
        "\n",
        "dfs['UF'].value_counts()\n"
      ]
    },
    {
      "cell_type": "code",
      "execution_count": null,
      "metadata": {
        "colab": {
          "base_uri": "https://localhost:8080/"
        },
        "id": "tayUEl1l-xDO",
        "outputId": "8ee04582-bf40-4372-f90d-a076a521ae8f"
      },
      "outputs": [
        {
          "name": "stdout",
          "output_type": "stream",
          "text": [
            "    UF  habitantes  NdeReclamações\n",
            "0   SP    44749699           31548\n",
            "1   PE     9410336           20175\n",
            "2   BA    15276566           17519\n",
            "3   SC     6910553           16718\n",
            "4   MG    20997560           15159\n",
            "5   ES     3973697           11383\n",
            "6   CE     8963663           10833\n",
            "7   TO     1532902           10232\n",
            "8   MS     2682386            9789\n",
            "9   PR    11242720            9132\n",
            "10  MT     3305531            8770\n",
            "11  GO     6695855            8060\n",
            "12  PB     3999415            7464\n",
            "13  RJ    16635996            4884\n",
            "14  RN     3474998            4443\n",
            "15  RO      514229            3922\n",
            "16  MA     6954036            3597\n",
            "17  PA     8272724            2730\n",
            "18  AM     4001667            2318\n",
            "19  PI     3212180            2189\n",
            "20  DF     2977216            2167\n",
            "21  RS    11286500             263\n",
            "22  AL     3358963             191\n"
          ]
        }
      ],
      "source": [
        "#Um novo dataframe é criado utilizando o método pd.DateFrame() com os dados obtidos acima\n",
        "#As estimativas populacionais foram obtidas do site do IBGE \n",
        "#FONTE:https://www.ibge.gov.br/estatisticas/downloads-estatisticas.html\n",
        "\n",
        "df = pd.DataFrame({'UF':['SP','PE', 'BA', 'SC', 'MG', 'ES', 'CE', 'TO', 'MS', 'PR', 'MT', 'GO', 'PB', 'RJ', 'RN', 'RO', 'MA', 'PA', 'AM', 'PI', 'DF', 'RS', 'AL' ],\n",
        "                   'habitantes':[44749699, 9410336, 15276566, 6910553, 20997560, 3973697, 8963663, 1532902, 2682386, 11242720, 3305531, 6695855, 3999415, 16635996,\n",
        "                    3474998, 514229, 6954036, 8272724, 4001667, 3212180, 2977216, 11286500, 3358963],\n",
        "                   'NdeReclamações':[31548, 20175, 17519, 16718, 15159, 11383, 10833, 10232, 9789, 9132, 8770, 8060, 7464, 4884, 4443, 3922, 3597, 2730, 2318, 2189,\n",
        "                                     2167, 263, 191]})\n",
        "\n",
        "print(df)"
      ]
    },
    {
      "cell_type": "code",
      "execution_count": null,
      "metadata": {
        "colab": {
          "base_uri": "https://localhost:8080/"
        },
        "id": "ns-i9BiD72jI",
        "outputId": "1699e08f-e955-47a1-dbe4-2bbff1b0d212"
      },
      "outputs": [
        {
          "data": {
            "text/plain": [
              "0.708557502040417"
            ]
          },
          "execution_count": 25,
          "metadata": {},
          "output_type": "execute_result"
        }
      ],
      "source": [
        "#O método corr() calcula a correlação entre o número de habitantes e a número de reclamações\n",
        "#O calculo indica que existe uma correlação forte entre o número de reclamações e o número de habitantes por Estado\n",
        "\n",
        "df['habitantes'].corr(df['NdeReclamações'])"
      ]
    },
    {
      "cell_type": "code",
      "execution_count": null,
      "metadata": {
        "colab": {
          "base_uri": "https://localhost:8080/",
          "height": 542
        },
        "id": "dArCBL9ahDJ9",
        "outputId": "8ccc0e19-8293-4e0b-ed17-acf8e16150c8"
      },
      "outputs": [
        {
          "data": {
            "text/html": [
              "<html>\n",
              "<head><meta charset=\"utf-8\" /></head>\n",
              "<body>\n",
              "    <div>            <script src=\"https://cdnjs.cloudflare.com/ajax/libs/mathjax/2.7.5/MathJax.js?config=TeX-AMS-MML_SVG\"></script><script type=\"text/javascript\">if (window.MathJax) {MathJax.Hub.Config({SVG: {font: \"STIX-Web\"}});}</script>                <script type=\"text/javascript\">window.PlotlyConfig = {MathJaxConfig: 'local'};</script>\n",
              "        <script src=\"https://cdn.plot.ly/plotly-2.8.3.min.js\"></script>                <div id=\"de5f3ef2-d875-4810-85c0-38b8eb64e31f\" class=\"plotly-graph-div\" style=\"height:525px; width:800px;\"></div>            <script type=\"text/javascript\">                                    window.PLOTLYENV=window.PLOTLYENV || {};                                    if (document.getElementById(\"de5f3ef2-d875-4810-85c0-38b8eb64e31f\")) {                    Plotly.newPlot(                        \"de5f3ef2-d875-4810-85c0-38b8eb64e31f\",                        [{\"hovertemplate\":\"habitantes=%{x}<br>NdeReclama\\u00e7\\u00f5es=%{y}<extra></extra>\",\"legendgroup\":\"\",\"marker\":{\"color\":\"#636efa\",\"symbol\":\"circle\"},\"mode\":\"markers\",\"name\":\"\",\"orientation\":\"v\",\"showlegend\":false,\"x\":[44749699,9410336,15276566,6910553,20997560,3973697,8963663,1532902,2682386,11242720,3305531,6695855,3999415,16635996,3474998,514229,6954036,8272724,4001667,3212180,2977216,11286500,3358963],\"xaxis\":\"x\",\"y\":[31548,20175,17519,16718,15159,11383,10833,10232,9789,9132,8770,8060,7464,4884,4443,3922,3597,2730,2318,2189,2167,263,191],\"yaxis\":\"y\",\"type\":\"scatter\"}],                        {\"template\":{\"data\":{\"bar\":[{\"error_x\":{\"color\":\"#2a3f5f\"},\"error_y\":{\"color\":\"#2a3f5f\"},\"marker\":{\"line\":{\"color\":\"#E5ECF6\",\"width\":0.5},\"pattern\":{\"fillmode\":\"overlay\",\"size\":10,\"solidity\":0.2}},\"type\":\"bar\"}],\"barpolar\":[{\"marker\":{\"line\":{\"color\":\"#E5ECF6\",\"width\":0.5},\"pattern\":{\"fillmode\":\"overlay\",\"size\":10,\"solidity\":0.2}},\"type\":\"barpolar\"}],\"carpet\":[{\"aaxis\":{\"endlinecolor\":\"#2a3f5f\",\"gridcolor\":\"white\",\"linecolor\":\"white\",\"minorgridcolor\":\"white\",\"startlinecolor\":\"#2a3f5f\"},\"baxis\":{\"endlinecolor\":\"#2a3f5f\",\"gridcolor\":\"white\",\"linecolor\":\"white\",\"minorgridcolor\":\"white\",\"startlinecolor\":\"#2a3f5f\"},\"type\":\"carpet\"}],\"choropleth\":[{\"colorbar\":{\"outlinewidth\":0,\"ticks\":\"\"},\"type\":\"choropleth\"}],\"contour\":[{\"colorbar\":{\"outlinewidth\":0,\"ticks\":\"\"},\"colorscale\":[[0.0,\"#0d0887\"],[0.1111111111111111,\"#46039f\"],[0.2222222222222222,\"#7201a8\"],[0.3333333333333333,\"#9c179e\"],[0.4444444444444444,\"#bd3786\"],[0.5555555555555556,\"#d8576b\"],[0.6666666666666666,\"#ed7953\"],[0.7777777777777778,\"#fb9f3a\"],[0.8888888888888888,\"#fdca26\"],[1.0,\"#f0f921\"]],\"type\":\"contour\"}],\"contourcarpet\":[{\"colorbar\":{\"outlinewidth\":0,\"ticks\":\"\"},\"type\":\"contourcarpet\"}],\"heatmap\":[{\"colorbar\":{\"outlinewidth\":0,\"ticks\":\"\"},\"colorscale\":[[0.0,\"#0d0887\"],[0.1111111111111111,\"#46039f\"],[0.2222222222222222,\"#7201a8\"],[0.3333333333333333,\"#9c179e\"],[0.4444444444444444,\"#bd3786\"],[0.5555555555555556,\"#d8576b\"],[0.6666666666666666,\"#ed7953\"],[0.7777777777777778,\"#fb9f3a\"],[0.8888888888888888,\"#fdca26\"],[1.0,\"#f0f921\"]],\"type\":\"heatmap\"}],\"heatmapgl\":[{\"colorbar\":{\"outlinewidth\":0,\"ticks\":\"\"},\"colorscale\":[[0.0,\"#0d0887\"],[0.1111111111111111,\"#46039f\"],[0.2222222222222222,\"#7201a8\"],[0.3333333333333333,\"#9c179e\"],[0.4444444444444444,\"#bd3786\"],[0.5555555555555556,\"#d8576b\"],[0.6666666666666666,\"#ed7953\"],[0.7777777777777778,\"#fb9f3a\"],[0.8888888888888888,\"#fdca26\"],[1.0,\"#f0f921\"]],\"type\":\"heatmapgl\"}],\"histogram\":[{\"marker\":{\"pattern\":{\"fillmode\":\"overlay\",\"size\":10,\"solidity\":0.2}},\"type\":\"histogram\"}],\"histogram2d\":[{\"colorbar\":{\"outlinewidth\":0,\"ticks\":\"\"},\"colorscale\":[[0.0,\"#0d0887\"],[0.1111111111111111,\"#46039f\"],[0.2222222222222222,\"#7201a8\"],[0.3333333333333333,\"#9c179e\"],[0.4444444444444444,\"#bd3786\"],[0.5555555555555556,\"#d8576b\"],[0.6666666666666666,\"#ed7953\"],[0.7777777777777778,\"#fb9f3a\"],[0.8888888888888888,\"#fdca26\"],[1.0,\"#f0f921\"]],\"type\":\"histogram2d\"}],\"histogram2dcontour\":[{\"colorbar\":{\"outlinewidth\":0,\"ticks\":\"\"},\"colorscale\":[[0.0,\"#0d0887\"],[0.1111111111111111,\"#46039f\"],[0.2222222222222222,\"#7201a8\"],[0.3333333333333333,\"#9c179e\"],[0.4444444444444444,\"#bd3786\"],[0.5555555555555556,\"#d8576b\"],[0.6666666666666666,\"#ed7953\"],[0.7777777777777778,\"#fb9f3a\"],[0.8888888888888888,\"#fdca26\"],[1.0,\"#f0f921\"]],\"type\":\"histogram2dcontour\"}],\"mesh3d\":[{\"colorbar\":{\"outlinewidth\":0,\"ticks\":\"\"},\"type\":\"mesh3d\"}],\"parcoords\":[{\"line\":{\"colorbar\":{\"outlinewidth\":0,\"ticks\":\"\"}},\"type\":\"parcoords\"}],\"pie\":[{\"automargin\":true,\"type\":\"pie\"}],\"scatter\":[{\"marker\":{\"colorbar\":{\"outlinewidth\":0,\"ticks\":\"\"}},\"type\":\"scatter\"}],\"scatter3d\":[{\"line\":{\"colorbar\":{\"outlinewidth\":0,\"ticks\":\"\"}},\"marker\":{\"colorbar\":{\"outlinewidth\":0,\"ticks\":\"\"}},\"type\":\"scatter3d\"}],\"scattercarpet\":[{\"marker\":{\"colorbar\":{\"outlinewidth\":0,\"ticks\":\"\"}},\"type\":\"scattercarpet\"}],\"scattergeo\":[{\"marker\":{\"colorbar\":{\"outlinewidth\":0,\"ticks\":\"\"}},\"type\":\"scattergeo\"}],\"scattergl\":[{\"marker\":{\"colorbar\":{\"outlinewidth\":0,\"ticks\":\"\"}},\"type\":\"scattergl\"}],\"scattermapbox\":[{\"marker\":{\"colorbar\":{\"outlinewidth\":0,\"ticks\":\"\"}},\"type\":\"scattermapbox\"}],\"scatterpolar\":[{\"marker\":{\"colorbar\":{\"outlinewidth\":0,\"ticks\":\"\"}},\"type\":\"scatterpolar\"}],\"scatterpolargl\":[{\"marker\":{\"colorbar\":{\"outlinewidth\":0,\"ticks\":\"\"}},\"type\":\"scatterpolargl\"}],\"scatterternary\":[{\"marker\":{\"colorbar\":{\"outlinewidth\":0,\"ticks\":\"\"}},\"type\":\"scatterternary\"}],\"surface\":[{\"colorbar\":{\"outlinewidth\":0,\"ticks\":\"\"},\"colorscale\":[[0.0,\"#0d0887\"],[0.1111111111111111,\"#46039f\"],[0.2222222222222222,\"#7201a8\"],[0.3333333333333333,\"#9c179e\"],[0.4444444444444444,\"#bd3786\"],[0.5555555555555556,\"#d8576b\"],[0.6666666666666666,\"#ed7953\"],[0.7777777777777778,\"#fb9f3a\"],[0.8888888888888888,\"#fdca26\"],[1.0,\"#f0f921\"]],\"type\":\"surface\"}],\"table\":[{\"cells\":{\"fill\":{\"color\":\"#EBF0F8\"},\"line\":{\"color\":\"white\"}},\"header\":{\"fill\":{\"color\":\"#C8D4E3\"},\"line\":{\"color\":\"white\"}},\"type\":\"table\"}]},\"layout\":{\"annotationdefaults\":{\"arrowcolor\":\"#2a3f5f\",\"arrowhead\":0,\"arrowwidth\":1},\"autotypenumbers\":\"strict\",\"coloraxis\":{\"colorbar\":{\"outlinewidth\":0,\"ticks\":\"\"}},\"colorscale\":{\"diverging\":[[0,\"#8e0152\"],[0.1,\"#c51b7d\"],[0.2,\"#de77ae\"],[0.3,\"#f1b6da\"],[0.4,\"#fde0ef\"],[0.5,\"#f7f7f7\"],[0.6,\"#e6f5d0\"],[0.7,\"#b8e186\"],[0.8,\"#7fbc41\"],[0.9,\"#4d9221\"],[1,\"#276419\"]],\"sequential\":[[0.0,\"#0d0887\"],[0.1111111111111111,\"#46039f\"],[0.2222222222222222,\"#7201a8\"],[0.3333333333333333,\"#9c179e\"],[0.4444444444444444,\"#bd3786\"],[0.5555555555555556,\"#d8576b\"],[0.6666666666666666,\"#ed7953\"],[0.7777777777777778,\"#fb9f3a\"],[0.8888888888888888,\"#fdca26\"],[1.0,\"#f0f921\"]],\"sequentialminus\":[[0.0,\"#0d0887\"],[0.1111111111111111,\"#46039f\"],[0.2222222222222222,\"#7201a8\"],[0.3333333333333333,\"#9c179e\"],[0.4444444444444444,\"#bd3786\"],[0.5555555555555556,\"#d8576b\"],[0.6666666666666666,\"#ed7953\"],[0.7777777777777778,\"#fb9f3a\"],[0.8888888888888888,\"#fdca26\"],[1.0,\"#f0f921\"]]},\"colorway\":[\"#636efa\",\"#EF553B\",\"#00cc96\",\"#ab63fa\",\"#FFA15A\",\"#19d3f3\",\"#FF6692\",\"#B6E880\",\"#FF97FF\",\"#FECB52\"],\"font\":{\"color\":\"#2a3f5f\"},\"geo\":{\"bgcolor\":\"white\",\"lakecolor\":\"white\",\"landcolor\":\"#E5ECF6\",\"showlakes\":true,\"showland\":true,\"subunitcolor\":\"white\"},\"hoverlabel\":{\"align\":\"left\"},\"hovermode\":\"closest\",\"mapbox\":{\"style\":\"light\"},\"paper_bgcolor\":\"white\",\"plot_bgcolor\":\"#E5ECF6\",\"polar\":{\"angularaxis\":{\"gridcolor\":\"white\",\"linecolor\":\"white\",\"ticks\":\"\"},\"bgcolor\":\"#E5ECF6\",\"radialaxis\":{\"gridcolor\":\"white\",\"linecolor\":\"white\",\"ticks\":\"\"}},\"scene\":{\"xaxis\":{\"backgroundcolor\":\"#E5ECF6\",\"gridcolor\":\"white\",\"gridwidth\":2,\"linecolor\":\"white\",\"showbackground\":true,\"ticks\":\"\",\"zerolinecolor\":\"white\"},\"yaxis\":{\"backgroundcolor\":\"#E5ECF6\",\"gridcolor\":\"white\",\"gridwidth\":2,\"linecolor\":\"white\",\"showbackground\":true,\"ticks\":\"\",\"zerolinecolor\":\"white\"},\"zaxis\":{\"backgroundcolor\":\"#E5ECF6\",\"gridcolor\":\"white\",\"gridwidth\":2,\"linecolor\":\"white\",\"showbackground\":true,\"ticks\":\"\",\"zerolinecolor\":\"white\"}},\"shapedefaults\":{\"line\":{\"color\":\"#2a3f5f\"}},\"ternary\":{\"aaxis\":{\"gridcolor\":\"white\",\"linecolor\":\"white\",\"ticks\":\"\"},\"baxis\":{\"gridcolor\":\"white\",\"linecolor\":\"white\",\"ticks\":\"\"},\"bgcolor\":\"#E5ECF6\",\"caxis\":{\"gridcolor\":\"white\",\"linecolor\":\"white\",\"ticks\":\"\"}},\"title\":{\"x\":0.05},\"xaxis\":{\"automargin\":true,\"gridcolor\":\"white\",\"linecolor\":\"white\",\"ticks\":\"\",\"title\":{\"standoff\":15},\"zerolinecolor\":\"white\",\"zerolinewidth\":2},\"yaxis\":{\"automargin\":true,\"gridcolor\":\"white\",\"linecolor\":\"white\",\"ticks\":\"\",\"title\":{\"standoff\":15},\"zerolinecolor\":\"white\",\"zerolinewidth\":2}}},\"xaxis\":{\"anchor\":\"y\",\"domain\":[0.0,1.0],\"title\":{\"text\":\"N\\u00famero de Habitantes\"},\"type\":\"log\"},\"yaxis\":{\"anchor\":\"x\",\"domain\":[0.0,1.0],\"title\":{\"text\":\"N\\u00famero de Reclama\\u00e7\\u00f5es\"}},\"legend\":{\"tracegroupgap\":0},\"margin\":{\"t\":60},\"width\":800},                        {\"responsive\": true}                    ).then(function(){\n",
              "                            \n",
              "var gd = document.getElementById('de5f3ef2-d875-4810-85c0-38b8eb64e31f');\n",
              "var x = new MutationObserver(function (mutations, observer) {{\n",
              "        var display = window.getComputedStyle(gd).display;\n",
              "        if (!display || display === 'none') {{\n",
              "            console.log([gd, 'removed!']);\n",
              "            Plotly.purge(gd);\n",
              "            observer.disconnect();\n",
              "        }}\n",
              "}});\n",
              "\n",
              "// Listen for the removal of the full notebook cells\n",
              "var notebookContainer = gd.closest('#notebook-container');\n",
              "if (notebookContainer) {{\n",
              "    x.observe(notebookContainer, {childList: true});\n",
              "}}\n",
              "\n",
              "// Listen for the clearing of the current output cell\n",
              "var outputEl = gd.closest('.output');\n",
              "if (outputEl) {{\n",
              "    x.observe(outputEl, {childList: true});\n",
              "}}\n",
              "\n",
              "                        })                };                            </script>        </div>\n",
              "</body>\n",
              "</html>"
            ]
          },
          "metadata": {},
          "output_type": "display_data"
        }
      ],
      "source": [
        "#O gráfico de dispersão pode ser construido utilizando o método px.scatter(), pertecente a biblioteca ploty.express\n",
        "#Apenas as colunas 'habitantes' e 'NdeReclamações' serão utilizadas, sendo respectivamente os eixos x e y\n",
        "\n",
        "fig  = px.scatter(df, x = 'habitantes', y = 'NdeReclamações', log_x = True, width = 800)\n",
        "fig.update_xaxes(title = 'Número de Habitantes')\n",
        "fig.update_yaxes(title = 'Número de Reclamações')\n",
        "fig.show()"
      ]
    },
    {
      "cell_type": "code",
      "execution_count": null,
      "metadata": {
        "colab": {
          "base_uri": "https://localhost:8080/",
          "height": 269
        },
        "id": "6U6B0FLm2AFb",
        "outputId": "720372e7-97db-4f58-8b1d-f5bd98bea484"
      },
      "outputs": [
        {
          "data": {
            "image/png": "[encoded data removed]",
            "text/plain": [
              "<Figure size 432x288 with 2 Axes>"
            ]
          },
          "metadata": {
            "needs_background": "light"
          },
          "output_type": "display_data"
        }
      ],
      "source": [
        "#Para ajudar na verifação, um mapa de calor é construido através do método sns.heatmap(), da biblioteca seaborn\n",
        "#O mapa de calor ajuda a visualizar se há ou não correlação entre habitantes e número de reclamações. Neste caso, ele indica que há uma correlação forte\n",
        "\n",
        "sns.heatmap(df[['habitantes', 'NdeReclamações']].corr(), annot=True)\n",
        "plt.show()"
      ]
    },
    {
      "cell_type": "code",
      "execution_count": null,
      "metadata": {
        "colab": {
          "base_uri": "https://localhost:8080/"
        },
        "id": "fy2-Gitl0NRv",
        "outputId": "7db81f7d-5ced-4bae-9bef-d0b74caf4785"
      },
      "outputs": [
        {
          "name": "stdout",
          "output_type": "stream",
          "text": [
            "[NbConvertApp] Converting notebook /content/AtividadeAtivaProbabilidade_Estatística.ipynb to html\n",
            "[NbConvertApp] Writing 405401 bytes to /content/AtividadeAtivaProbabilidade_Estatística.html\n"
          ]
        },
        {
          "data": {
            "text/plain": []
          },
          "execution_count": 30,
          "metadata": {},
          "output_type": "execute_result"
        }
      ],
      "source": [
        "#comando para converter o notebook em um arquivo html\n",
        "%%shell\n",
        "jupyter nbconvert --to html /content/AtividadeAtivaProbabilidade_Estatística.ipynb"
      ]
    }
  ],
  "metadata": {
    "colab": {
      "collapsed_sections": [],
      "name": "AtividadeAtivaProbabilidade_Estatística.ipynb",
      "provenance": []
    },
    "kernelspec": {
      "display_name": "Python 3",
      "name": "python3"
    },
    "language_info": {
      "name": "python"
    }
  },
  "nbformat": 4,
  "nbformat_minor": 0
}
